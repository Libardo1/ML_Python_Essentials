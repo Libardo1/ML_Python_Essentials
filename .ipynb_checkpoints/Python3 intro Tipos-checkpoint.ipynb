{
 "cells": [
  {
   "cell_type": "markdown",
   "metadata": {},
   "source": [
    "# Tipos de datos\n",
    "\n",
    "* inf, NaN (Not a Number), None\n",
    "* Numbers\n",
    "* String\n",
    "* List\n",
    "* Tuple\n",
    "* Dictionary"
   ]
  },
  {
   "cell_type": "code",
   "execution_count": 49,
   "metadata": {},
   "outputs": [
    {
     "name": "stdout",
     "output_type": "stream",
     "text": [
      "float('NaN') + 1.0 \t = nan\n",
      "float('-Inf') + 1.0 \t = -inf\n",
      "float('Inf') == float('Inf') ? \t True\n",
      "float('Inf') == 1e100 ? \t False\n",
      "float('Inf') == 1e1000 ? \t True\n"
     ]
    }
   ],
   "source": [
    "print(\"float('NaN') + 1.0 \\t =\", float('NaN') + 1.0)\n",
    "print(\"float('-Inf') + 1.0 \\t =\", float('-Inf') + 1.0)\n",
    "print(\"float('Inf') == float('Inf') ? \\t\", float('Inf') == float('Inf'))\n",
    "print(\"float('Inf') == 1e100 ? \\t\", float('Inf') == 1e100)\n",
    "print(\"float('Inf') == 1e1000 ? \\t\", float('Inf') == 1e1000)"
   ]
  },
  {
   "cell_type": "code",
   "execution_count": 48,
   "metadata": {},
   "outputs": [
    {
     "name": "stdout",
     "output_type": "stream",
     "text": [
      "a is None ? \t False\n",
      "a_not_initializated_variable is None ? \t True\n"
     ]
    }
   ],
   "source": [
    "a = 10\n",
    "a_not_initializated_variable = None\n",
    "print(\"a is None ? \\t\", a is None)\n",
    "print(\"a_not_initializated_variable is None ? \\t\", a_not_initializated_variable is None)"
   ]
  },
  {
   "cell_type": "markdown",
   "metadata": {},
   "source": [
    "## Number\n",
    "\n",
    "* Interos (int)\n",
    "* Reales (float)\n",
    "* Complejos (complex)"
   ]
  },
  {
   "cell_type": "code",
   "execution_count": 9,
   "metadata": {},
   "outputs": [
    {
     "name": "stdout",
     "output_type": "stream",
     "text": [
      "<class 'int'>\n",
      "<class 'float'>\n",
      "<class 'complex'>\n"
     ]
    }
   ],
   "source": [
    "a_int = 32\n",
    "a_float = 32.\n",
    "a_complex = 3. + 2j\n",
    "\n",
    "print( type( a_int ) )\n",
    "print( type( a_float ) )\n",
    "print( type( a_complex ) )"
   ]
  },
  {
   "cell_type": "markdown",
   "metadata": {},
   "source": [
    "## Strings\n",
    "\n",
    "* ### Están definidos por \"\" o ''"
   ]
  },
  {
   "cell_type": "code",
   "execution_count": 14,
   "metadata": {},
   "outputs": [
    {
     "name": "stdout",
     "output_type": "stream",
     "text": [
      "Introducción a Python\n",
      "Machine Learning course\n",
      "This is a 'compound' string\n",
      "<class 'str'>\n"
     ]
    }
   ],
   "source": [
    "\n",
    "str1 = \"Introducción a Python\"\n",
    "str2 = 'Machine Learning course'\n",
    "compound_str = \"This is a 'compound' string\"\n",
    "print(str1)\n",
    "print(str2)\n",
    "print(compound_str)\n",
    "print(type(str1))"
   ]
  },
  {
   "cell_type": "markdown",
   "metadata": {},
   "source": [
    "## Listas\n",
    "\n",
    "* ### Se definine por []\n",
    "* ### Pueden contener diferentes tipos de dato\n",
    "* ### Podemos cambiar su contenido / elementos"
   ]
  },
  {
   "cell_type": "code",
   "execution_count": 20,
   "metadata": {},
   "outputs": [
    {
     "name": "stdout",
     "output_type": "stream",
     "text": [
      "[1, '3', 5, 'seven', 'nine', 11, 13]\n",
      "<class 'list'>\n"
     ]
    }
   ],
   "source": [
    "odd_numbers_list = [1, \"3\", 5, \"seven\", 'nine', 10+1, 13]\n",
    "\n",
    "print(odd_numbers_list)\n",
    "print(type(odd_numbers_list))"
   ]
  },
  {
   "cell_type": "markdown",
   "metadata": {},
   "source": [
    "## Tuplas\n",
    "\n",
    "* ### Se definine por ()\n",
    "* ### Pueden contener diferentes tipos de dato\n",
    "* ### NO son modificables"
   ]
  },
  {
   "cell_type": "code",
   "execution_count": 22,
   "metadata": {},
   "outputs": [
    {
     "name": "stdout",
     "output_type": "stream",
     "text": [
      "(-1, -2, -3, -4, -5, '-6')\n",
      "<class 'tuple'>\n"
     ]
    }
   ],
   "source": [
    "negative_numbers_tuple = (-1, -2, -3, -4, -5, \"-6\")\n",
    "\n",
    "print(negative_numbers_tuple)\n",
    "print(type(negative_numbers_tuple))"
   ]
  },
  {
   "cell_type": "markdown",
   "metadata": {},
   "source": [
    "## Dictionary\n",
    "\n",
    "* ### Se definine por {} y un conjunto de parejas llave: valor ( \"key\": value )\n",
    "* ### Los valores pueden contener diferentes tipos de dato\n",
    "* ### SON modificables\n",
    "* ### NO estan ordenados"
   ]
  },
  {
   "cell_type": "code",
   "execution_count": 29,
   "metadata": {},
   "outputs": [
    {
     "name": "stdout",
     "output_type": "stream",
     "text": [
      "person_dict = {'Name': 'Andrés', 'Age': 33, 'Height': 1.7, 'Is student': True}\n",
      "<class 'dict'>\n",
      "Keys: dict_keys(['Name', 'Age', 'Height', 'Is student'])\n",
      "Values: dict_values(['Andrés', 33, 1.7, True])\n"
     ]
    }
   ],
   "source": [
    "person_dict = {'Name': 'Andrés', 'Age': 33, 'Height': 1.70, 'Is student': True}\n",
    "\n",
    "print(\"person_dict =\", person_dict)\n",
    "print(type(person_dict))\n",
    "print(\"Keys:\", person_dict.keys())\n",
    "print(\"Values:\", person_dict.values())"
   ]
  },
  {
   "cell_type": "markdown",
   "metadata": {},
   "source": [
    "# Funciones útiles para tipos secuencia ( list, tuple, dict )\n",
    "\n",
    "$ \\huge \\cdot \\hspace{5mm} len(x) $\n",
    "\n",
    "$ \\huge \\cdot \\hspace{5mm} x.shape $"
   ]
  },
  {
   "cell_type": "markdown",
   "metadata": {},
   "source": [
    "# Funciones útiles para convertir tipos de dato\n",
    "\n",
    "$ \\huge \\cdot \\hspace{5mm} int(x) $\n",
    "\n",
    "$ \\huge \\cdot \\hspace{5mm} float(x) $\n",
    "\n",
    "$ \\huge \\cdot \\hspace{5mm} complex(real [,imag]) $\n",
    "\n",
    "$ \\huge \\cdot \\hspace{5mm} str(x) $\n",
    "\n",
    "$ \\huge \\cdot \\hspace{5mm} repr(x) $\n",
    "\n",
    "$ \\huge \\cdot \\hspace{5mm} eval(str) $\n",
    "\n",
    "$ \\huge \\cdot \\hspace{5mm} tuple(s) $\n",
    "\n",
    "$ \\huge \\cdot \\hspace{5mm} list(s) $\n",
    "\n",
    "$ \\huge \\cdot \\hspace{5mm} set(s) $\n",
    "\n",
    "$ \\huge \\cdot \\hspace{5mm} dict(d) $"
   ]
  },
  {
   "cell_type": "code",
   "execution_count": null,
   "metadata": {},
   "outputs": [],
   "source": []
  }
 ],
 "metadata": {
  "kernelspec": {
   "display_name": "Python 3",
   "language": "python",
   "name": "python3"
  },
  "language_info": {
   "codemirror_mode": {
    "name": "ipython",
    "version": 3
   },
   "file_extension": ".py",
   "mimetype": "text/x-python",
   "name": "python",
   "nbconvert_exporter": "python",
   "pygments_lexer": "ipython3",
   "version": "3.7.2"
  }
 },
 "nbformat": 4,
 "nbformat_minor": 2
}
